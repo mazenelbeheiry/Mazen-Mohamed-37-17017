{
 "cells": [
  {
   "cell_type": "code",
   "execution_count": 102,
   "metadata": {},
   "outputs": [
    {
     "data": {
      "text/plain": [
       "'C:\\\\Users\\\\DELL\\\\Practical Assignment'"
      ]
     },
     "execution_count": 102,
     "metadata": {},
     "output_type": "execute_result"
    }
   ],
   "source": [
    "pwd"
   ]
  },
  {
   "cell_type": "code",
   "execution_count": 118,
   "metadata": {},
   "outputs": [],
   "source": [
    "import pandas as pd\n",
    "import numpy as np\n",
    "import seaborn as sns\n",
    "from matplotlib import pyplot\n",
    "import matplotlib.pyplot as plt\n",
    "from scipy import optimize\n",
    "from sklearn.preprocessing import PolynomialFeatures\n",
    "%matplotlib inline"
   ]
  },
  {
   "cell_type": "code",
   "execution_count": 119,
   "metadata": {},
   "outputs": [
    {
     "name": "stdout",
     "output_type": "stream",
     "text": [
      "0\n"
     ]
    },
    {
     "data": {
      "text/html": [
       "<div>\n",
       "<style scoped>\n",
       "    .dataframe tbody tr th:only-of-type {\n",
       "        vertical-align: middle;\n",
       "    }\n",
       "\n",
       "    .dataframe tbody tr th {\n",
       "        vertical-align: top;\n",
       "    }\n",
       "\n",
       "    .dataframe thead th {\n",
       "        text-align: right;\n",
       "    }\n",
       "</style>\n",
       "<table border=\"1\" class=\"dataframe\">\n",
       "  <thead>\n",
       "    <tr style=\"text-align: right;\">\n",
       "      <th></th>\n",
       "      <th>id</th>\n",
       "      <th>date</th>\n",
       "      <th>price</th>\n",
       "      <th>bedrooms</th>\n",
       "      <th>bathrooms</th>\n",
       "      <th>sqft_living</th>\n",
       "      <th>sqft_lot</th>\n",
       "      <th>floors</th>\n",
       "      <th>waterfront</th>\n",
       "      <th>view</th>\n",
       "      <th>...</th>\n",
       "      <th>grade</th>\n",
       "      <th>sqft_above</th>\n",
       "      <th>sqft_basement</th>\n",
       "      <th>yr_built</th>\n",
       "      <th>yr_renovated</th>\n",
       "      <th>zipcode</th>\n",
       "      <th>lat</th>\n",
       "      <th>long</th>\n",
       "      <th>sqft_living15</th>\n",
       "      <th>sqft_lot15</th>\n",
       "    </tr>\n",
       "  </thead>\n",
       "  <tbody>\n",
       "    <tr>\n",
       "      <td>0</td>\n",
       "      <td>7129300520</td>\n",
       "      <td>20141013T000000</td>\n",
       "      <td>221900.0</td>\n",
       "      <td>3</td>\n",
       "      <td>1.00</td>\n",
       "      <td>1180</td>\n",
       "      <td>5650</td>\n",
       "      <td>1.0</td>\n",
       "      <td>0</td>\n",
       "      <td>0</td>\n",
       "      <td>...</td>\n",
       "      <td>7</td>\n",
       "      <td>1180</td>\n",
       "      <td>0</td>\n",
       "      <td>1955</td>\n",
       "      <td>0</td>\n",
       "      <td>98178</td>\n",
       "      <td>47.5112</td>\n",
       "      <td>-122.257</td>\n",
       "      <td>1340</td>\n",
       "      <td>5650</td>\n",
       "    </tr>\n",
       "    <tr>\n",
       "      <td>1</td>\n",
       "      <td>6414100192</td>\n",
       "      <td>20141209T000000</td>\n",
       "      <td>538000.0</td>\n",
       "      <td>3</td>\n",
       "      <td>2.25</td>\n",
       "      <td>2570</td>\n",
       "      <td>7242</td>\n",
       "      <td>2.0</td>\n",
       "      <td>0</td>\n",
       "      <td>0</td>\n",
       "      <td>...</td>\n",
       "      <td>7</td>\n",
       "      <td>2170</td>\n",
       "      <td>400</td>\n",
       "      <td>1951</td>\n",
       "      <td>1991</td>\n",
       "      <td>98125</td>\n",
       "      <td>47.7210</td>\n",
       "      <td>-122.319</td>\n",
       "      <td>1690</td>\n",
       "      <td>7639</td>\n",
       "    </tr>\n",
       "    <tr>\n",
       "      <td>2</td>\n",
       "      <td>5631500400</td>\n",
       "      <td>20150225T000000</td>\n",
       "      <td>180000.0</td>\n",
       "      <td>2</td>\n",
       "      <td>1.00</td>\n",
       "      <td>770</td>\n",
       "      <td>10000</td>\n",
       "      <td>1.0</td>\n",
       "      <td>0</td>\n",
       "      <td>0</td>\n",
       "      <td>...</td>\n",
       "      <td>6</td>\n",
       "      <td>770</td>\n",
       "      <td>0</td>\n",
       "      <td>1933</td>\n",
       "      <td>0</td>\n",
       "      <td>98028</td>\n",
       "      <td>47.7379</td>\n",
       "      <td>-122.233</td>\n",
       "      <td>2720</td>\n",
       "      <td>8062</td>\n",
       "    </tr>\n",
       "  </tbody>\n",
       "</table>\n",
       "<p>3 rows × 21 columns</p>\n",
       "</div>"
      ],
      "text/plain": [
       "           id             date     price  bedrooms  bathrooms  sqft_living  \\\n",
       "0  7129300520  20141013T000000  221900.0         3       1.00         1180   \n",
       "1  6414100192  20141209T000000  538000.0         3       2.25         2570   \n",
       "2  5631500400  20150225T000000  180000.0         2       1.00          770   \n",
       "\n",
       "   sqft_lot  floors  waterfront  view  ...  grade  sqft_above  sqft_basement  \\\n",
       "0      5650     1.0           0     0  ...      7        1180              0   \n",
       "1      7242     2.0           0     0  ...      7        2170            400   \n",
       "2     10000     1.0           0     0  ...      6         770              0   \n",
       "\n",
       "   yr_built  yr_renovated  zipcode      lat     long  sqft_living15  \\\n",
       "0      1955             0    98178  47.5112 -122.257           1340   \n",
       "1      1951          1991    98125  47.7210 -122.319           1690   \n",
       "2      1933             0    98028  47.7379 -122.233           2720   \n",
       "\n",
       "   sqft_lot15  \n",
       "0        5650  \n",
       "1        7639  \n",
       "2        8062  \n",
       "\n",
       "[3 rows x 21 columns]"
      ]
     },
     "execution_count": 119,
     "metadata": {},
     "output_type": "execute_result"
    }
   ],
   "source": [
    "completedf = pd.read_csv(\"house_data_complete.csv\")\n",
    "training = pd.read_csv(\"house_prices_data_training_data.csv\")\n",
    "training = training.dropna()\n",
    "print(training.isnull().values.sum())\n",
    "completedf.iloc[:3]"
   ]
  },
  {
   "cell_type": "code",
   "execution_count": 120,
   "metadata": {},
   "outputs": [],
   "source": [
    "# cleaning the dataset\n",
    "\n",
    "completedf1 = completedf.drop(['id','date','zipcode','lat','long'],1)\n",
    "training1 = training.drop(['id','date','zipcode','lat','long'],1)\n",
    "\n"
   ]
  },
  {
   "cell_type": "code",
   "execution_count": 175,
   "metadata": {},
   "outputs": [
    {
     "data": {
      "text/plain": [
       "3613"
      ]
     },
     "execution_count": 175,
     "metadata": {},
     "output_type": "execute_result"
    }
   ],
   "source": [
    "training2 = completedf1[round(TestPlusVal.shape[0]/2): 19805]\n",
    "Valdf2 =  completedf1[19806 : ]\n",
    "Testdf2 = completedf1[0 :round(TestPlusVal.shape[0]/2) ]\n",
    "Testdf2.shape[0]\n",
    "TestPlusVal.shape[0]"
   ]
  },
  {
   "cell_type": "code",
   "execution_count": 147,
   "metadata": {},
   "outputs": [
    {
     "name": "stdout",
     "output_type": "stream",
     "text": [
      "15\n",
      "16\n"
     ]
    }
   ],
   "source": [
    "# validation and test sets split\n",
    "\n",
    "\n",
    "\n",
    "k_fold = 3\n",
    "\n",
    " for i in range(3):\n",
    "        if (i == 1):\n",
    "            TestPlusVal = completedf1[18000:]\n",
    "            Valdf = TestPlusVal[:round(TestPlusVal.shape[0]/2)]\n",
    "            Testdf =  TestPlusVal[round(TestPlusVal.shape[0]/2):] \n",
    "        elif (i == 2):\n",
    "            training1 = completedf1[TestPlusVal.shape[0]:]\n",
    "            Valdf =  completedf1[0:round(TestPlusVal.shape[0]/2)]\n",
    "            Testdf = completedf1[round(TestPlusVal.shape[0]/2) :TestPlusVal.shape[0]]\n",
    "        else : \n",
    "            training1 = completedf1[round(TestPlusVal.shape[0]/2): 19805]\n",
    "            Valdf1 =  completedf1[19806 : ]\n",
    "            Testdf1 = completedf1[0 :round(TestPlusVal.shape[0]/2) ]\n",
    "            \n",
    "\n",
    "#TestPlusVal = completedf1[18000:]\n",
    "\n",
    "#Valdf = TestPlusVal[:round(TestPlusVal.shape[0]/2)]\n",
    "#Testdf =  TestPlusVal[round(TestPlusVal.shape[0]/2):]\n",
    "\n",
    "#hyp 1\n",
    "\n",
    "y_train1 = training1['price']\n",
    "x_train1 = training1.drop(['price'],1)\n",
    "\n",
    "train_size1 = y_train1.size\n",
    "\n",
    "X_train1 = (x_train1 - x_train1.min())/(x_train1.max() - x_train1.min())\n",
    "\n",
    "\n",
    "\n",
    "\n",
    "y_val1 = Valdf['price']\n",
    "x_val1 = Valdf.drop(['price'],1)\n",
    "\n",
    "val_size1 = y_val1.size\n",
    "\n",
    "X_val1 = (x_val1 - x_val1.min())/(x_val1.max() - x_val1.min())\n",
    "\n",
    "\n",
    "\n",
    "\n",
    "y_test1 = Testdf['price']\n",
    "x_test1 = Testdf.drop(['price'],1)\n",
    "\n",
    "test_size1 = y_test1.size\n",
    "\n",
    "X_test1 = (x_test1 - x_test1.min())/(x_test1.max() - x_test1.min())\n",
    "\n",
    "print(X_test1.shape[1])\n",
    "\n",
    "X_train1 = np.concatenate([np.ones((train_size1, 1)), X_train1], axis=1)\n",
    "X_val1 = np.concatenate([np.ones((val_size1, 1)), X_val1], axis=1)\n",
    "X_test1 = np.concatenate([np.ones((test_size1, 1)), X_test1], axis=1)\n",
    "print(X_test1.shape[1])\n",
    "\n",
    "\n",
    "#hyp 2\n",
    "\n",
    "y_train2 = training1['price']\n",
    "x_train2 = training1.drop(['price'],1)\n",
    "\n",
    "x_train2['sqft_living15'] = x_train2['sqft_living15']**2\n",
    "\n",
    "\n",
    "train_size2 = y_train2.size\n",
    "\n",
    "X_train2 = (x_train2 - x_train2.min())/(x_train2.max() - x_train2.min())\n",
    "\n",
    "\n",
    "\n",
    "\n",
    "y_val2 = Valdf['price']\n",
    "x_val2 = Valdf.drop(['price'],1)\n",
    "\n",
    "\n",
    "x_val2['sqft_living15'] = x_val2['sqft_living15']**2\n",
    "\n",
    "val_size2 = y_val2.size\n",
    "\n",
    "X_val2 = (x_val2 - x_val2.min())/(x_val2.max() - x_val2.min())\n",
    "\n",
    "\n",
    "\n",
    "\n",
    "y_test2 = Testdf['price']\n",
    "x_test2 = Testdf.drop(['price'],1)\n",
    "\n",
    "x_test2['sqft_living15'] = x_test2['sqft_living15']**2\n",
    "\n",
    "test_size2 = y_test2.size\n",
    "\n",
    "X_test2 = (x_test2 - x_test2.min())/(x_test2.max() - x_test2.min())\n",
    "\n",
    "\n",
    "\n",
    "X_train2 = np.concatenate([np.ones((train_size2, 1)), X_train2], axis=1)\n",
    "X_val2 = np.concatenate([np.ones((val_size2, 1)), X_val2], axis=1)\n",
    "X_test2 = np.concatenate([np.ones((test_size2, 1)), X_test2], axis=1)\n",
    "\n",
    "#hyp 3\n",
    "\n",
    "y_train3 = training1['price']\n",
    "x_train3 = training1.drop(['price'],1)\n",
    "\n",
    "\n",
    "poly = PolynomialFeatures(2)\n",
    "\n",
    "# Transforming the data into the sixth power polynomial\n",
    "x_train3 = poly.fit_transform(x_train3)\n",
    "\n",
    "\n",
    "train_size3 = y_train3.size\n",
    "\n",
    "X_train3 = (x_train3 - x_train3.min())/(x_train3.max() - x_train3.min())\n",
    "\n",
    "\n",
    "\n",
    "\n",
    "y_val3 = Valdf['price']\n",
    "x_val3 = Valdf.drop(['price'],1)\n",
    "\n",
    "\n",
    "x_val3 = poly.fit_transform(x_val3)\n",
    "\n",
    "val_size3 = y_val3.size\n",
    "\n",
    "X_val3 = (x_val3 - x_val3.min())/(x_val3.max() - x_val3.min())\n",
    "\n",
    "\n",
    "\n",
    "\n",
    "y_test3 = Testdf['price']\n",
    "x_test3 = Testdf.drop(['price'],1)\n",
    "\n",
    "x_test3 = poly.fit_transform(x_test3)\n",
    "\n",
    "test_size3 = y_test3.size\n",
    "\n",
    "X_test3 = (x_test3 - x_test3.min())/(x_test3.max() - x_test3.min())\n",
    "\n",
    "\n",
    "X_train3 = np.concatenate([np.ones((train_size3, 1)), X_train3], axis=1)\n",
    "X_val3 = np.concatenate([np.ones((val_size3, 1)), X_val3], axis=1)\n",
    "X_test3 = np.concatenate([np.ones((test_size3, 1)), X_test3], axis=1)\n",
    "\n",
    "\n",
    "###################################################################################################\n"
   ]
  },
  {
   "cell_type": "code",
   "execution_count": 122,
   "metadata": {},
   "outputs": [],
   "source": [
    "def computeCost(X, y, theta, Lambda):\n",
    "    \n",
    "    sumofh0x=np.dot(X,theta)\n",
    "    J = ( np.dot((sumofh0x - y), (sumofh0x - y)) / (2 * train_size) ) + ((1/2 * Lambda * np.sum(np.square(theta[1:]))) / train_size)    \n",
    "    return J"
   ]
  },
  {
   "cell_type": "code",
   "execution_count": 123,
   "metadata": {},
   "outputs": [],
   "source": [
    "def computeCostCV(X, y, theta):\n",
    "    \n",
    "    sumofh0x=np.dot(X,theta)\n",
    "    J =  np.dot((sumofh0x - y), (sumofh0x - y)) / (2 * val_size)     \n",
    "    return J"
   ]
  },
  {
   "cell_type": "code",
   "execution_count": 124,
   "metadata": {},
   "outputs": [],
   "source": [
    "def gradientDescent(X, y, X_cv,Y_cv, theta, Lambda, alpha, num_iters):\n",
    "    \n",
    "    # Initialize some useful values\n",
    "    train_size = y.size  # number of training examples\n",
    "    val_size = Y_cv.size\n",
    "    \n",
    "    # make a copy of theta, to avoid changing the original array, since numpy arrays\n",
    "    # are passed by reference to functions\n",
    "    theta = theta.copy()\n",
    "    \n",
    "    J_history = [] # Use a python list to save cost in every iteration\n",
    "    J_cv = []\n",
    "    \n",
    "    thetaNoZeroReg = np.insert(theta[1:], 0, 0)\n",
    "    \n",
    "    \n",
    "    for i in range(num_iters):\n",
    "        sumofh0x=np.dot(X,theta)\n",
    "        theta=theta-((alpha/train_size)*(np.dot(X.T,sumofh0x-y))) + (Lambda * thetaNoZeroReg)\n",
    "        # save the cost J in every iteration\n",
    "        J_history.append(computeCost(X, y, theta, Lambda))\n",
    "        \n",
    "    J_cv.append(computeCostCV(X_cv, Y_cv, theta)) \n",
    "    return theta, J_history, J_cv"
   ]
  },
  {
   "cell_type": "code",
   "execution_count": 125,
   "metadata": {},
   "outputs": [],
   "source": [
    "initial_theta1 = np.zeros((X_train.shape[1]))\n"
   ]
  },
  {
   "cell_type": "code",
   "execution_count": 137,
   "metadata": {},
   "outputs": [
    {
     "name": "stdout",
     "output_type": "stream",
     "text": [
      "theta computed from gradient descent: [-160924.97187421  -39421.93735163  389076.07028359  564244.24720346\n",
      "   -9919.83345161   82454.93902804  472044.81470698  208860.62976614\n",
      "   77249.69931854  960382.67168428  620441.64611516  378071.42215528\n",
      " -431921.6792723    34813.47785841  509659.01996246  -52963.4064696 ]\n"
     ]
    },
    {
     "data": {
      "image/png": "[encoded data removed]",
      "text/plain": [
       "<Figure size 432x288 with 1 Axes>"
      ]
     },
     "metadata": {
      "needs_background": "light"
     },
     "output_type": "display_data"
    }
   ],
   "source": [
    "# hypothesis 1  linear\n",
    "\n",
    "initial_theta1 = np.zeros((X_train1.shape[1]))\n",
    "Lambda = np.array([0.01, 0.02, 0.04, 0.08, 0.16, 0.32, 0.64, 1.28, 2.56, 5.12\n",
    "                  , 10.24])\n",
    "alpha = 0.8\n",
    "num_iters = 300\n",
    "J_cv_all1 = []\n",
    "\n",
    "for i in range(Lambda.size):\n",
    "    theta1, J_history1, J_cv1 = gradientDescent(X_train1, y_train1, X_val1, y_val1, initial_theta1, Lambda[i], alpha, num_iters)\n",
    "    J_cv_all1.append(J_cv1)\n",
    "    \n",
    "   \n",
    "    \n",
    "# Plot the convergence graph\n",
    "pyplot.plot(np.arange(len(J_history1)), J_history1, lw=2)\n",
    "pyplot.xlabel('Number of iterations')\n",
    "pyplot.ylabel('Cost J')\n",
    "\n",
    "# Display the gradient descent's result\n",
    "print('theta computed from gradient descent: {:s}'.format(str(theta1)))\n"
   ]
  },
  {
   "cell_type": "code",
   "execution_count": 136,
   "metadata": {},
   "outputs": [
    {
     "name": "stdout",
     "output_type": "stream",
     "text": [
      "theta computed from gradient descent: [-116234.22613603  -28838.76556054  398818.9658466   579806.57632036\n",
      "   -5993.93630799   76095.74985523  467651.53724072  208064.44381738\n",
      "   78973.82405702  987494.22940635  638876.3558993   386018.74539615\n",
      " -428290.91110158   33800.04045172  642294.86207961  -46528.97811672]\n"
     ]
    },
    {
     "data": {
      "image/png": "[encoded data removed]",
      "text/plain": [
       "<Figure size 432x288 with 1 Axes>"
      ]
     },
     "metadata": {
      "needs_background": "light"
     },
     "output_type": "display_data"
    }
   ],
   "source": [
    "#hypothesis 2  squaring 1 feature\n",
    "\n",
    "initial_theta2 = np.zeros((X_train2.shape[1]))\n",
    "Lambda = np.array([0.01, 0.02, 0.04, 0.08, 0.16, 0.32, 0.64, 1.28, 2.56, 5.12\n",
    "                  , 10.24])\n",
    "alpha = 0.8\n",
    "num_iters = 300\n",
    "J_cv_all2 = []\n",
    "\n",
    "for i in range(Lambda.size):\n",
    "    theta2, J_history2, J_cv2 = gradientDescent(X_train2, y_train2, X_val2, y_val2, initial_theta2, Lambda[i], alpha, num_iters)\n",
    "    J_cv_all2.append(J_cv2)\n",
    "\n",
    "    # Plot the convergence graph\n",
    "pyplot.plot(np.arange(len(J_history2)), J_history2, lw=2)\n",
    "pyplot.xlabel('Number of iterations')\n",
    "pyplot.ylabel('Cost J')\n",
    "\n",
    "# Display the gradient descent's result\n",
    "print('theta computed from gradient descent: {:s}'.format(str(theta2)))\n"
   ]
  },
  {
   "cell_type": "code",
   "execution_count": 135,
   "metadata": {},
   "outputs": [
    {
     "name": "stdout",
     "output_type": "stream",
     "text": [
      "theta computed from gradient descent: [5.33064935e+05 1.95477655e-07 1.03555511e-06 9.33885929e-07\n",
      " 1.24728258e-03 8.11989627e-03 4.71455164e-07 3.39633978e-08\n",
      " 4.67146925e-07 7.16441353e-07 2.51957461e-06 9.93122515e-04\n",
      " 2.54160067e-04 3.85932652e-04 9.36204706e-05 9.24777827e-04\n",
      " 5.47336656e-03 5.14961502e-06 4.27906858e-06 5.55774212e-03\n",
      " 3.48637933e-02 2.21624770e-06 1.31850830e-07 1.89398252e-06\n",
      " 3.72796970e-06 1.18674439e-05 4.44576408e-03 1.11197804e-03\n",
      " 2.04128199e-03 3.95570727e-04 4.13313142e-03 2.45321045e-02\n",
      " 3.69857399e-06 4.69861838e-03 3.09620075e-02 1.87004690e-06\n",
      " 1.17274682e-07 1.56106306e-06 3.29389473e-06 1.02091310e-05\n",
      " 3.77100680e-03 9.27611580e-04 1.84269276e-03 3.24905099e-04\n",
      " 3.42185186e-03 2.19137844e-02 6.16758924e+00 4.12188653e+01\n",
      " 2.43315223e-03 1.56551893e-04 1.97198198e-03 4.37019265e-03\n",
      " 1.33271726e-02 4.94273237e+00 1.22485687e+00 2.46185610e+00\n",
      " 3.97421842e-01 4.42510714e+00 2.94203241e+01 1.81268356e+03\n",
      " 1.63580663e-02 8.44246652e-04 1.09400510e-02 2.71602618e-02\n",
      " 8.95183695e-02 3.52671844e+01 5.95168094e+00 1.61558920e+01\n",
      " 1.50878758e+00 2.90887695e+01 7.98923020e+02 1.04764306e-06\n",
      " 6.00999933e-08 8.10078316e-07 1.67475080e-06 5.35187050e-06\n",
      " 2.00546526e-03 4.27686978e-04 9.29747242e-04 1.72149520e-04\n",
      " 1.81654130e-03 1.13511266e-02 3.39633978e-08 1.29528339e-07\n",
      " 1.18323436e-07 3.39132782e-07 1.18935657e-04 3.76162360e-05\n",
      " 6.69532278e-05 1.55996051e-05 1.09078978e-04 6.76221360e-04\n",
      " 1.48990926e-06 1.67157749e-06 4.62906446e-06 1.49236400e-03\n",
      " 4.79617981e-04 9.19577855e-04 1.58387348e-04 1.50148945e-03\n",
      " 8.19731889e-03 2.73397635e-06 8.96138961e-06 3.43529563e-03\n",
      " 9.34897018e-04 1.41029266e-03 3.04104635e-04 3.27476532e-03\n",
      " 1.83528371e-02 2.90057724e-05 1.07591186e-02 2.56805398e-03\n",
      " 4.97434374e-03 9.03309299e-04 1.00250696e-02 6.24229077e-02\n",
      " 4.11690531e+00 8.25827061e-01 1.96243512e+00 3.00225966e-01\n",
      " 3.58915420e+00 2.49146750e+01 3.99029811e-01 4.99420986e-01\n",
      " 9.71958753e-02 8.35952937e-01 4.50564906e+00 7.62261014e-01\n",
      " 1.81852819e-01 1.82541050e+00 1.08919621e+01 1.87272711e-01\n",
      " 2.78477625e-01 1.30429682e+00 3.51332891e+00 2.17285191e+01\n",
      " 5.37758219e+02]\n"
     ]
    },
    {
     "data": {
      "image/png": "[encoded data removed]",
      "text/plain": [
       "<Figure size 432x288 with 1 Axes>"
      ]
     },
     "metadata": {
      "needs_background": "light"
     },
     "output_type": "display_data"
    }
   ],
   "source": [
    "#hypothesis 3  polynomial\n",
    "\n",
    "initial_theta3 = np.zeros((X_train3.shape[1]))\n",
    "Lambda = np.array([0.01, 0.02, 0.04, 0.08, 0.16, 0.32, 0.64, 1.28, 2.56, 5.12\n",
    "                  , 10.24])\n",
    "alpha = 0.2\n",
    "num_iters = 50\n",
    "J_cv_all3 = []\n",
    "\n",
    "for i in range(Lambda.size):\n",
    "    theta3, J_history3, J_cv3 = gradientDescent(X_train3, y_train3, X_val3, y_val3, initial_theta3, Lambda[i], alpha, num_iters)\n",
    "    J_cv_all3.append(J_cv3)\n",
    "    \n",
    "# Plot the convergence graph\n",
    "pyplot.plot(np.arange(len(J_history3)), J_history3, lw=2)\n",
    "pyplot.xlabel('Number of iterations')\n",
    "pyplot.ylabel('Cost J')\n",
    "\n",
    "# Display the gradient descent's result\n",
    "print('theta computed from gradient descent: {:s}'.format(str(theta3)))   \n"
   ]
  },
  {
   "cell_type": "code",
   "execution_count": 158,
   "metadata": {},
   "outputs": [
    {
     "name": "stdout",
     "output_type": "stream",
     "text": [
      "36259352902.51437\n"
     ]
    }
   ],
   "source": [
    "\n",
    "min_cv1 = min(J_cv_all1)\n",
    "min_cv2 = min(J_cv_all2)\n",
    "min_cv3 = min(J_cv_all3)\n",
    "\n",
    "if (min_cv1 < min_cv2 and   min_cv1 < min_cv3):\n",
    "    J_test = computeCostCV(X_test1, y_test1, theta1)\n",
    "elif (min_cv2 < min_cv1 and   min_cv2 < min_cv3):   \n",
    "    J_test = computeCostCV(X_test2, y_test2, theta2)\n",
    "elif (min_cv3 < min_cv1 and   min_cv3 < min_cv2):      \n",
    "    J_test = computeCostCV(X_test3, y_test3, theta3)\n",
    "\n",
    "print(J_test)  "
   ]
  },
  {
   "cell_type": "code",
   "execution_count": 10,
   "metadata": {},
   "outputs": [
    {
     "data": {
      "image/png": "[encoded data removed]",
      "text/plain": [
       "<Figure size 432x288 with 2 Axes>"
      ]
     },
     "metadata": {
      "needs_background": "light"
     },
     "output_type": "display_data"
    }
   ],
   "source": [
    "names=['price','bedrooms','bathrooms','sqft_living','sqft_lot','floors','waterfront','view','condition','grade','sqft_above','sqft_basement']\n",
    "corr = training.corr()\n",
    "fig = plt.figure()\n",
    "ax = fig.add_subplot(111)\n",
    "cax = ax.matshow(corr,cmap='coolwarm', vmin=-1, vmax=1)\n",
    "fig.colorbar(cax)\n",
    "ticks = np.arange(0,len(training.columns),1)\n",
    "ax.set_xticks(ticks)\n",
    "plt.xticks(rotation=90)\n",
    "ax.set_yticks(ticks)\n",
    "ax.set_xticklabels(training.columns)\n",
    "ax.set_yticklabels(training.columns)\n",
    "plt.show()"
   ]
  },
  {
   "cell_type": "code",
   "execution_count": 27,
   "metadata": {},
   "outputs": [
    {
     "data": {
      "image/png": "[encoded data removed]",
      "text/plain": [
       "<Figure size 432x288 with 1 Axes>"
      ]
     },
     "metadata": {
      "needs_background": "light"
     },
     "output_type": "display_data"
    },
    {
     "data": {
      "text/plain": [
       "<function seaborn.utils.despine(fig=None, ax=None, top=True, right=True, left=False, bottom=False, offset=None, trim=False)>"
      ]
     },
     "execution_count": 27,
     "metadata": {},
     "output_type": "execute_result"
    }
   ],
   "source": [
    "plt.scatter(training.bedrooms,training.price)\n",
    "plt.title(\"Bedroom and Price \")\n",
    "plt.xlabel(\"Bedrooms\")\n",
    "plt.ylabel(\"Price\")\n",
    "plt.show()\n",
    "sns.despine"
   ]
  },
  {
   "cell_type": "code",
   "execution_count": 48,
   "metadata": {},
   "outputs": [
    {
     "data": {
      "text/plain": [
       "Text(0.5, 1.0, 'Price vs yr_built')"
      ]
     },
     "execution_count": 48,
     "metadata": {},
     "output_type": "execute_result"
    },
    {
     "data": {
      "image/png": "[encoded data removed]",
      "text/plain": [
       "<Figure size 432x288 with 1 Axes>"
      ]
     },
     "metadata": {
      "needs_background": "light"
     },
     "output_type": "display_data"
    }
   ],
   "source": [
    "plt.scatter(training.price,training.sqft_above)\n",
    "plt.title(\"Price vs yr_built\")"
   ]
  },
  {
   "cell_type": "code",
   "execution_count": 38,
   "metadata": {},
   "outputs": [
    {
     "data": {
      "text/plain": [
       "Text(0.5, 1.0, 'Price vs Square Feet')"
      ]
     },
     "execution_count": 38,
     "metadata": {},
     "output_type": "execute_result"
    },
    {
     "data": {
      "image/png": "[encoded data removed]",
      "text/plain": [
       "<Figure size 432x288 with 1 Axes>"
      ]
     },
     "metadata": {
      "needs_background": "light"
     },
     "output_type": "display_data"
    }
   ],
   "source": [
    "plt.scatter(training.price,training.sqft_living15)\n",
    "plt.title(\"Price vs Square Feet\")"
   ]
  },
  {
   "cell_type": "code",
   "execution_count": 28,
   "metadata": {},
   "outputs": [
    {
     "data": {
      "text/plain": [
       "Text(0.5, 1.0, 'Price vs Square Feet')"
      ]
     },
     "execution_count": 28,
     "metadata": {},
     "output_type": "execute_result"
    },
    {
     "data": {
      "image/png": "[encoded data removed]",
      "text/plain": [
       "<Figure size 432x288 with 1 Axes>"
      ]
     },
     "metadata": {
      "needs_background": "light"
     },
     "output_type": "display_data"
    }
   ],
   "source": [
    "plt.scatter(training.price,training.sqft_living)\n",
    "plt.title(\"Price vs Square Feet\")"
   ]
  },
  {
   "cell_type": "code",
   "execution_count": 29,
   "metadata": {},
   "outputs": [
    {
     "data": {
      "text/plain": [
       "<matplotlib.collections.PathCollection at 0x240a5108a08>"
      ]
     },
     "execution_count": 29,
     "metadata": {},
     "output_type": "execute_result"
    },
    {
     "data": {
      "image/png": "[encoded data removed]",
      "text/plain": [
       "<Figure size 432x288 with 1 Axes>"
      ]
     },
     "metadata": {
      "needs_background": "light"
     },
     "output_type": "display_data"
    }
   ],
   "source": [
    "plt.scatter((training['sqft_basement']),training['price'])"
   ]
  },
  {
   "cell_type": "code",
   "execution_count": 30,
   "metadata": {},
   "outputs": [
    {
     "data": {
      "text/plain": [
       "Text(0.5, 1.0, 'Waterfront vs Price ( 0= no waterfront)')"
      ]
     },
     "execution_count": 30,
     "metadata": {},
     "output_type": "execute_result"
    },
    {
     "data": {
      "image/png": "[encoded data removed]",
      "text/plain": [
       "<Figure size 432x288 with 1 Axes>"
      ]
     },
     "metadata": {
      "needs_background": "light"
     },
     "output_type": "display_data"
    }
   ],
   "source": [
    "plt.scatter(training.waterfront,training.price)\n",
    "plt.title(\"Waterfront vs Price ( 0= no waterfront)\")"
   ]
  },
  {
   "cell_type": "code",
   "execution_count": 31,
   "metadata": {},
   "outputs": [
    {
     "data": {
      "text/plain": [
       "<matplotlib.collections.PathCollection at 0x240a73aa348>"
      ]
     },
     "execution_count": 31,
     "metadata": {},
     "output_type": "execute_result"
    },
    {
     "data": {
      "image/png": "[encoded data removed]",
      "text/plain": [
       "<Figure size 432x288 with 1 Axes>"
      ]
     },
     "metadata": {
      "needs_background": "light"
     },
     "output_type": "display_data"
    }
   ],
   "source": [
    "plt.scatter(training.floors,training.price)"
   ]
  },
  {
   "cell_type": "code",
   "execution_count": 32,
   "metadata": {},
   "outputs": [
    {
     "data": {
      "text/plain": [
       "<matplotlib.collections.PathCollection at 0x240a7308c88>"
      ]
     },
     "execution_count": 32,
     "metadata": {},
     "output_type": "execute_result"
    },
    {
     "data": {
      "image/png": "[encoded data removed]",
      "text/plain": [
       "<Figure size 432x288 with 1 Axes>"
      ]
     },
     "metadata": {
      "needs_background": "light"
     },
     "output_type": "display_data"
    }
   ],
   "source": [
    "plt.scatter(training.condition,training.price)"
   ]
  },
  {
   "cell_type": "code",
   "execution_count": null,
   "metadata": {},
   "outputs": [],
   "source": []
  }
 ],
 "metadata": {
  "kernelspec": {
   "display_name": "Python 3",
   "language": "python",
   "name": "python3"
  },
  "language_info": {
   "codemirror_mode": {
    "name": "ipython",
    "version": 3
   },
   "file_extension": ".py",
   "mimetype": "text/x-python",
   "name": "python",
   "nbconvert_exporter": "python",
   "pygments_lexer": "ipython3",
   "version": "3.7.4"
  }
 },
 "nbformat": 4,
 "nbformat_minor": 2
}
